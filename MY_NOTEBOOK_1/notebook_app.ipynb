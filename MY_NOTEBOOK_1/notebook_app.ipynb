{
 "metadata": {
  "kernelspec": {
   "display_name": "Streamlit Notebook",
   "name": "streamlit"
  },
  "lastEditStatus": {
   "notebookId": "jdytqzapub3q43da6tyl",
   "authorId": "9129906233654",
   "authorName": "ASVR410",
   "authorEmail": "newsiva4113@gmail.com",
   "sessionId": "35e3c8dd-f0a8-48ac-8630-f003093601a4",
   "lastEditTime": 1740290356219
  }
 },
 "nbformat_minor": 5,
 "nbformat": 4,
 "cells": [
  {
   "cell_type": "code",
   "id": "62c4310c-83f9-4f64-8414-4b3b5663c3ba",
   "metadata": {
    "language": "sql",
    "name": "cell1"
   },
   "outputs": [],
   "source": "select * from dept;",
   "execution_count": null
  },
  {
   "cell_type": "code",
   "id": "efb1a341-8f8c-4933-ad7b-8c8aac40ab3e",
   "metadata": {
    "language": "sql",
    "name": "cell2"
   },
   "outputs": [],
   "source": "select * from fake_data;",
   "execution_count": null
  },
 {
   "cell_type": "code",
   "id": "efb1a341-8f8c-4933-ad7b-8c8aac40ab3e",
   "metadata": {
    "language": "sql",
    "name": "cell2"
   },
   "outputs": [],
   "source": "select * from LOCATION;",
   "execution_count": null
  }
 ]
}
