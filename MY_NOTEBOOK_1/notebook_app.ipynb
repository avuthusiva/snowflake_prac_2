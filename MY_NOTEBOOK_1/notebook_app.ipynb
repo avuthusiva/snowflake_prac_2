{
 "metadata": {
  "kernelspec": {
   "display_name": "Streamlit Notebook",
   "name": "streamlit"
  },
  "lastEditStatus": {
   "notebookId": "z64eueauhs2ssob2he3w",
   "authorId": "9129906233654",
   "authorName": "ASVR410",
   "authorEmail": "newsiva4113@gmail.com",
   "sessionId": "33e1a72f-222d-4a7f-b334-c12d359106e9",
   "lastEditTime": 1740288185857
  }
 },
 "nbformat_minor": 5,
 "nbformat": 4,
 "cells": [
  {
   "cell_type": "code",
   "id": "62c4310c-83f9-4f64-8414-4b3b5663c3ba",
   "metadata": {
    "language": "sql",
    "name": "cell1"
   },
   "outputs": [],
   "source": "select * from dept;",
   "execution_count": null
  }
 ]
}